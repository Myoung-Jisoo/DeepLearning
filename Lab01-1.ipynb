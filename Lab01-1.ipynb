{
 "cells": [
  {
   "cell_type": "markdown",
   "id": "alpha-appointment",
   "metadata": {},
   "source": [
    "# PyTorch Basic Tensor Manipulation 1"
   ]
  },
  {
   "cell_type": "code",
   "execution_count": 1,
   "id": "prepared-purse",
   "metadata": {},
   "outputs": [],
   "source": [
    "import numpy as np # numpy를 np라고 import\n",
    "#numpy와 pytorch는 굉장히 호환성이 높고 직관적\n",
    "import torch"
   ]
  },
  {
   "cell_type": "markdown",
   "id": "devoted-album",
   "metadata": {},
   "source": [
    "## 1D Array with NumPy"
   ]
  },
  {
   "cell_type": "code",
   "execution_count": 3,
   "id": "studied-portal",
   "metadata": {},
   "outputs": [
    {
     "name": "stdout",
     "output_type": "stream",
     "text": [
      "[0. 1. 2. 3. 4. 5. 6.]\n"
     ]
    }
   ],
   "source": [
    "t = np.array([0., 1., 2., 3., 4., 5., 6.]) #numpy vector 선언\n",
    "print(t)"
   ]
  },
  {
   "cell_type": "code",
   "execution_count": 4,
   "id": "gentle-dinner",
   "metadata": {},
   "outputs": [
    {
     "name": "stdout",
     "output_type": "stream",
     "text": [
      "Rank  of t:  1\n",
      "Shape of t:  (7,)\n"
     ]
    }
   ],
   "source": [
    "print('Rank  of t: ', t.ndim) # 몇개 차원으로 이루어져 있는가? -> vector\n",
    "print('Shape of t: ', t.shape) # shape는 어떤가? -> 하나에 차원에 대해 7개의 element가 들어있다."
   ]
  },
  {
   "cell_type": "code",
   "execution_count": 5,
   "id": "supposed-passage",
   "metadata": {},
   "outputs": [
    {
     "name": "stdout",
     "output_type": "stream",
     "text": [
      "t[0] t[1] t[-1] =  0.0 1.0 6.0\n",
      "t[2:5] t[4:-1]  =  [2. 3. 4.] [4. 5.]\n",
      "t[:2] t[3:] [0. 1.] [3. 4. 5. 6.]\n"
     ]
    }
   ],
   "source": [
    "print('t[0] t[1] t[-1] = ', t[0], t[1], t[-1]) #Element\n",
    "print('t[2:5] t[4:-1]  = ', t[2:5], t[4:-1])   #Slicing\n",
    "print('t[:2] t[3:]', t[:2], t[3:])             #Slicing"
   ]
  },
  {
   "cell_type": "markdown",
   "id": "curious-prisoner",
   "metadata": {},
   "source": [
    "## 2D Array with NumPy"
   ]
  },
  {
   "cell_type": "code",
   "execution_count": 6,
   "id": "protected-array",
   "metadata": {},
   "outputs": [
    {
     "name": "stdout",
     "output_type": "stream",
     "text": [
      "[[ 1.  2.  3.]\n",
      " [ 4.  5.  6.]\n",
      " [ 7.  8.  9.]\n",
      " [10. 11. 12.]]\n"
     ]
    }
   ],
   "source": [
    "t = np.array([[1., 2., 3.], [4., 5., 6.], [7., 8., 9.], [10., 11., 12.]]) # 2차원\n",
    "print(t)"
   ]
  },
  {
   "cell_type": "code",
   "execution_count": 8,
   "id": "random-stranger",
   "metadata": {},
   "outputs": [
    {
     "name": "stdout",
     "output_type": "stream",
     "text": [
      "Rank  of t:  2\n",
      "Shape of t:  (4, 3)\n"
     ]
    }
   ],
   "source": [
    "print('Rank  of t: ', t.ndim) # 몇개 차원으로 이루어져 있는가? -> 2차원\n",
    "print('Shape of t: ', t.shape) # shape는 어떤가? -> 각각의 차원에 4개와 3개의 Element가 들어가 있다."
   ]
  },
  {
   "cell_type": "markdown",
   "id": "fatal-control",
   "metadata": {},
   "source": [
    "## 1D Array with PyTorch"
   ]
  },
  {
   "cell_type": "code",
   "execution_count": 10,
   "id": "national-meeting",
   "metadata": {},
   "outputs": [
    {
     "name": "stdout",
     "output_type": "stream",
     "text": [
      "tensor([0., 1., 2., 3., 4., 5., 6.])\n"
     ]
    }
   ],
   "source": [
    "t = torch.FloatTensor([0., 1., 2., 3., 4., 5., 6.]) # Torch에 Float형 Tensor로 값을 만들겠다.\n",
    "print(t)"
   ]
  },
  {
   "cell_type": "code",
   "execution_count": 11,
   "id": "historical-killing",
   "metadata": {},
   "outputs": [
    {
     "name": "stdout",
     "output_type": "stream",
     "text": [
      "1\n",
      "torch.Size([7])\n",
      "torch.Size([7])\n",
      "tensor(0.) tensor(1.) tensor(6.)\n",
      "tensor([2., 3., 4.]) tensor([4., 5.])\n",
      "tensor([0., 1.]) tensor([3., 4., 5., 6.])\n"
     ]
    }
   ],
   "source": [
    "print(t.dim())  #rank 몇개의 차원이 있는가?\n",
    "print(t.shape)  #shape 모양은 어떻니? -> 한 개의 차원에는 7개의 Element가 있다.\n",
    "print(t.size()) #shape\n",
    "print(t[0], t[1], t[-1]) # Elenment에 접근\n",
    "print(t[2:5], t[4:-1])   #Slicing\n",
    "print(t[:2], t[3:])      #Slicing"
   ]
  },
  {
   "cell_type": "markdown",
   "id": "unsigned-saver",
   "metadata": {},
   "source": [
    "## 2D Array with PyTorch"
   ]
  },
  {
   "cell_type": "code",
   "execution_count": 17,
   "id": "thirty-referral",
   "metadata": {},
   "outputs": [
    {
     "name": "stdout",
     "output_type": "stream",
     "text": [
      "tensor([[ 1.,  2.,  3.],\n",
      "        [ 4.,  5.,  6.],\n",
      "        [ 7.,  8.,  9.],\n",
      "        [10., 11., 12.]])\n"
     ]
    }
   ],
   "source": [
    "t = torch.FloatTensor([[1., 2., 3.],\n",
    "                       [4., 5., 6.],\n",
    "                       [7., 8., 9.],\n",
    "                       [10., 11., 12.]])\n",
    "print(t) # 4 by 3 Matrix 출력"
   ]
  },
  {
   "cell_type": "code",
   "execution_count": 19,
   "id": "computational-cathedral",
   "metadata": {},
   "outputs": [
    {
     "name": "stdout",
     "output_type": "stream",
     "text": [
      "2\n",
      "torch.Size([4, 3])\n",
      "tensor([ 2.,  5.,  8., 11.])\n",
      "torch.Size([4])\n",
      "tensor([[ 1.,  2.],\n",
      "        [ 4.,  5.],\n",
      "        [ 7.,  8.],\n",
      "        [10., 11.]])\n"
     ]
    }
   ],
   "source": [
    "print(t.dim())   # rank\n",
    "print(t.size())  # shape\n",
    "print(t[:, 1])   # 첫 번째 차원에서는 다 가져오되, 두 번째 차원에서는 첫 번째 것만 가져와라\n",
    "print(t[:, 1].size())  # 1개의 list 안에 들어있는 Element가 4개\n",
    "print(t[:, :-1]) # 첫 번째 차원에서는 다 가져오되, 두 번째 차원에서는 마지막 것만 제외한 모든 것을 가져와라"
   ]
  },
  {
   "cell_type": "markdown",
   "id": "negative-company",
   "metadata": {},
   "source": [
    "## Broadcasting"
   ]
  },
  {
   "cell_type": "markdown",
   "id": "viral-vancouver",
   "metadata": {},
   "source": [
    "자동적으로 Matrix의 크기를 맞춰주는 기능"
   ]
  },
  {
   "cell_type": "code",
   "execution_count": 21,
   "id": "adapted-speed",
   "metadata": {},
   "outputs": [
    {
     "name": "stdout",
     "output_type": "stream",
     "text": [
      "tensor([5., 5.])\n"
     ]
    }
   ],
   "source": [
    "# Same shape\n",
    "m1 = torch.FloatTensor([3, 3])\n",
    "m2 = torch.FloatTensor([2, 2])\n",
    "print(m1 + m2)"
   ]
  },
  {
   "cell_type": "code",
   "execution_count": 23,
   "id": "realistic-sussex",
   "metadata": {},
   "outputs": [
    {
     "name": "stdout",
     "output_type": "stream",
     "text": [
      "tensor([4., 5.])\n"
     ]
    }
   ],
   "source": [
    "# Vector + scalar\n",
    "m1 = torch.FloatTensor([1, 2])\n",
    "m2 = torch.FloatTensor([3]) # 3 -> [[3, 3]] Scalar\n",
    "print(m1 + m2)"
   ]
  },
  {
   "cell_type": "code",
   "execution_count": 25,
   "id": "imported-quilt",
   "metadata": {},
   "outputs": [
    {
     "name": "stdout",
     "output_type": "stream",
     "text": [
      "tensor([[4., 5.],\n",
      "        [5., 6.]])\n"
     ]
    }
   ],
   "source": [
    "# 2 x 1 Vector + 1 x 2 Vector\n",
    "m1 = torch.FloatTensor([[1, 2]])   # [[1, 2], [1, 2]]\n",
    "m2 = torch.FloatTensor([[3], [4]]) # [[3, 3], [4, 4]]\n",
    "print(m1 + m2)"
   ]
  },
  {
   "cell_type": "markdown",
   "id": "separate-analysis",
   "metadata": {},
   "source": [
    "## Multiplication vs Matrix Multiplication"
   ]
  },
  {
   "cell_type": "code",
   "execution_count": 27,
   "id": "separate-olive",
   "metadata": {},
   "outputs": [
    {
     "name": "stdout",
     "output_type": "stream",
     "text": [
      "\n",
      "-------------\n",
      "Mul vs Matmul\n",
      "-------------\n",
      "Shape of Matrix 1:  torch.Size([2, 2])\n",
      "Shape of Matrix 2:  torch.Size([2, 1])\n",
      "tensor([[ 5.],\n",
      "        [11.]])\n",
      "Shape of Matrix 1:  torch.Size([2, 2])\n",
      "Shape of Matrix 2:  torch.Size([2, 1])\n",
      "tensor([[1., 2.],\n",
      "        [6., 8.]])\n",
      "tensor([[1., 2.],\n",
      "        [6., 8.]])\n"
     ]
    }
   ],
   "source": [
    "print()\n",
    "print('-------------')\n",
    "print('Mul vs Matmul')\n",
    "print('-------------')\n",
    "m1 = torch.FloatTensor([[1, 2], [3, 4]])\n",
    "m2 = torch.FloatTensor([[1], [2]])\n",
    "print('Shape of Matrix 1: ', m1.shape) # 2 x 2\n",
    "print('Shape of Matrix 2: ', m2.shape) # 2 x 1\n",
    "print(m1.matmul(m2)) # 2 x 1\n",
    "\n",
    "m1 = torch.FloatTensor([[1, 2], [3, 4]])\n",
    "m2 = torch.FloatTensor([[1], [2]])\n",
    "print('Shape of Matrix 1: ', m1.shape) # 2 x 2\n",
    "print('Shape of Matrix 2: ', m2.shape) # 2 x 1\n",
    "print(m1 * m2)\n",
    "print(m1.mul(m2)) # 2 x 2"
   ]
  },
  {
   "cell_type": "markdown",
   "id": "simple-latino",
   "metadata": {},
   "source": [
    "## Mean"
   ]
  },
  {
   "cell_type": "markdown",
   "id": "female-salvation",
   "metadata": {},
   "source": [
    "평균 구하기"
   ]
  },
  {
   "cell_type": "code",
   "execution_count": 30,
   "id": "restricted-interval",
   "metadata": {},
   "outputs": [
    {
     "name": "stdout",
     "output_type": "stream",
     "text": [
      "tensor(2.)\n"
     ]
    }
   ],
   "source": [
    "t = torch.FloatTensor([1, 2]) \n",
    "print(t.mean()) # 평균 구하기!"
   ]
  },
  {
   "cell_type": "code",
   "execution_count": 31,
   "id": "thorough-louisiana",
   "metadata": {},
   "outputs": [
    {
     "name": "stdout",
     "output_type": "stream",
     "text": [
      "Can only calculate the mean of floating types. Got Long instead.\n"
     ]
    }
   ],
   "source": [
    "# Can't use mean() on integers\n",
    "t = torch.LongTensor([1, 2])\n",
    "try:\n",
    "    print(t.mean())\n",
    "except Exception as exc:\n",
    "    print(exc)"
   ]
  },
  {
   "cell_type": "markdown",
   "id": "irish-christmas",
   "metadata": {},
   "source": [
    "You can also use t.mean for higher rank tensors to get mean of all elements, or mean by paricular dimension"
   ]
  },
  {
   "cell_type": "code",
   "execution_count": 32,
   "id": "corresponding-update",
   "metadata": {},
   "outputs": [
    {
     "name": "stdout",
     "output_type": "stream",
     "text": [
      "tensor([[1., 2.],\n",
      "        [3., 4.]])\n"
     ]
    }
   ],
   "source": [
    "t = torch.FloatTensor([[1, 2], [3, 4]]) #Matrix Tensor 선언\n",
    "print(t)"
   ]
  },
  {
   "cell_type": "markdown",
   "id": "public-starter",
   "metadata": {},
   "source": [
    "이해가 잘 안돼! dimension의 개념"
   ]
  },
  {
   "cell_type": "code",
   "execution_count": 34,
   "id": "personalized-driving",
   "metadata": {},
   "outputs": [
    {
     "name": "stdout",
     "output_type": "stream",
     "text": [
      "tensor(2.5000)\n",
      "tensor([2., 3.])\n",
      "tensor([1.5000, 3.5000])\n",
      "tensor([1.5000, 3.5000])\n"
     ]
    }
   ],
   "source": [
    "print(t.mean()) # 전체 Element의 Mean\n",
    "print(t.mean(dim = 0))  # 첫 번째 dimension의 Mean 출력 <-dimension 0을 없애겠어! :: 결과 [?, ?] vector\n",
    "print(t.mean(dim = 1))  # 두 번째 dimension의 Mean 출력\n",
    "print(t.mean(dim = -1)) # 마지막 dimension의 Mean 출력"
   ]
  },
  {
   "cell_type": "markdown",
   "id": "renewable-contractor",
   "metadata": {},
   "source": [
    "## Sum"
   ]
  },
  {
   "cell_type": "code",
   "execution_count": 35,
   "id": "nominated-munich",
   "metadata": {},
   "outputs": [
    {
     "name": "stdout",
     "output_type": "stream",
     "text": [
      "tensor([[1., 2.],\n",
      "        [3., 4.]])\n"
     ]
    }
   ],
   "source": [
    "t = torch.FloatTensor([[1, 2], [3, 4]])\n",
    "print(t)"
   ]
  },
  {
   "cell_type": "code",
   "execution_count": 36,
   "id": "double-variance",
   "metadata": {},
   "outputs": [
    {
     "name": "stdout",
     "output_type": "stream",
     "text": [
      "tensor(10.)\n",
      "tensor([4., 6.])\n",
      "tensor([3., 7.])\n",
      "tensor([3., 7.])\n"
     ]
    }
   ],
   "source": [
    "print(t.sum())\n",
    "print(t.sum(dim = 0))\n",
    "print(t.sum(dim = 1))\n",
    "print(t.sum(dim = -1))"
   ]
  },
  {
   "cell_type": "markdown",
   "id": "stunning-victoria",
   "metadata": {},
   "source": [
    "## Max and Argmax"
   ]
  },
  {
   "cell_type": "markdown",
   "id": "corporate-commerce",
   "metadata": {},
   "source": [
    "Max : Tensor나 행렬에 대해서 가장 큰 값을 찾아주는 것\n",
    "\n",
    "Argmax : 그 index값을 return 해 주는 것"
   ]
  },
  {
   "cell_type": "code",
   "execution_count": 37,
   "id": "subsequent-uzbekistan",
   "metadata": {},
   "outputs": [
    {
     "name": "stdout",
     "output_type": "stream",
     "text": [
      "tensor([[1., 2.],\n",
      "        [3., 4.]])\n"
     ]
    }
   ],
   "source": [
    "t = torch.FloatTensor([[1, 2], [3, 4]])\n",
    "print(t)"
   ]
  },
  {
   "cell_type": "markdown",
   "id": "subjective-independence",
   "metadata": {},
   "source": [
    "The max operator returns one value if it is called without an argument."
   ]
  },
  {
   "cell_type": "code",
   "execution_count": 41,
   "id": "sitting-engagement",
   "metadata": {},
   "outputs": [
    {
     "name": "stdout",
     "output_type": "stream",
     "text": [
      "tensor(4.)\n"
     ]
    }
   ],
   "source": [
    "print(t.max()) # Returns one Value: max"
   ]
  },
  {
   "cell_type": "markdown",
   "id": "outdoor-aruba",
   "metadata": {},
   "source": [
    "The __max__ operator return 2 values when called with dimension specified. The first value is the maximum value, and the second value is the argmax! the index of the element with maximum value"
   ]
  },
  {
   "cell_type": "code",
   "execution_count": 40,
   "id": "human-dimension",
   "metadata": {},
   "outputs": [
    {
     "name": "stdout",
     "output_type": "stream",
     "text": [
      "torch.return_types.max(\n",
      "values=tensor([3., 4.]),\n",
      "indices=tensor([1, 1]))\n",
      "Max:     tensor([3., 4.])\n",
      "Argmax:  tensor([1, 1])\n"
     ]
    }
   ],
   "source": [
    "print(t.max(dim = 0)) # Returns two values: max and argmax\n",
    "print('Max:    ', t.max(dim = 0)[0])\n",
    "print('Argmax: ', t.max(dim = 0)[1])"
   ]
  },
  {
   "cell_type": "code",
   "execution_count": 42,
   "id": "sonic-aaron",
   "metadata": {},
   "outputs": [
    {
     "name": "stdout",
     "output_type": "stream",
     "text": [
      "torch.return_types.max(\n",
      "values=tensor([2., 4.]),\n",
      "indices=tensor([1, 1]))\n",
      "torch.return_types.max(\n",
      "values=tensor([2., 4.]),\n",
      "indices=tensor([1, 1]))\n"
     ]
    }
   ],
   "source": [
    "print(t.max(dim = 1))\n",
    "print(t.max(dim = -1))"
   ]
  }
 ],
 "metadata": {
  "kernelspec": {
   "display_name": "Python 3",
   "language": "python",
   "name": "python3"
  },
  "language_info": {
   "codemirror_mode": {
    "name": "ipython",
    "version": 3
   },
   "file_extension": ".py",
   "mimetype": "text/x-python",
   "name": "python",
   "nbconvert_exporter": "python",
   "pygments_lexer": "ipython3",
   "version": "3.8.5"
  }
 },
 "nbformat": 4,
 "nbformat_minor": 5
}
