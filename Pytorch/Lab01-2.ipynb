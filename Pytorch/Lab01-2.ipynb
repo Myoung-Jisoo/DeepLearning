{
 "cells": [
  {
   "cell_type": "markdown",
   "id": "military-standing",
   "metadata": {},
   "source": [
    "# PyTorch Basic Tensor Manipulation 2"
   ]
  },
  {
   "cell_type": "code",
   "execution_count": 13,
   "id": "designed-discretion",
   "metadata": {},
   "outputs": [],
   "source": [
    "import torch"
   ]
  },
  {
   "cell_type": "markdown",
   "id": "frozen-begin",
   "metadata": {},
   "source": [
    "# Shape를 자유자재로 바꿀 수 있어야 한다."
   ]
  },
  {
   "cell_type": "markdown",
   "id": "russian-tension",
   "metadata": {},
   "source": [
    "## View (Reshape)"
   ]
  },
  {
   "cell_type": "markdown",
   "id": "satisfied-tourism",
   "metadata": {},
   "source": [
    "다시 모양을 만들어 주겠다 / View 함수를 이용해 Matrix를 원하는 형태로 만들 수 있는데, 이것을 잘하는 것이 딥러닝의 중요한 요소"
   ]
  },
  {
   "cell_type": "code",
   "execution_count": 43,
   "id": "together-evening",
   "metadata": {},
   "outputs": [
    {
     "name": "stdout",
     "output_type": "stream",
     "text": [
      "torch.Size([2, 2, 3])\n"
     ]
    }
   ],
   "source": [
    "t = np.array([[[0, 1, 2],\n",
    "               [3, 4, 5]],\n",
    "             \n",
    "              [[6, 7, 8],\n",
    "               [9, 10, 11]]])\n",
    "ft = torch.FloatTensor(t)\n",
    "print(ft.shape)"
   ]
  },
  {
   "cell_type": "code",
   "execution_count": 46,
   "id": "marine-fitness",
   "metadata": {},
   "outputs": [
    {
     "name": "stdout",
     "output_type": "stream",
     "text": [
      "tensor([[ 0.,  1.,  2.],\n",
      "        [ 3.,  4.,  5.],\n",
      "        [ 6.,  7.,  8.],\n",
      "        [ 9., 10., 11.]])\n",
      "torch.Size([4, 3])\n"
     ]
    }
   ],
   "source": [
    "print(ft.view([-1, 3]))       # 모양을 바꿔줌 (2개의 차원을 가지는데 '-1 : 앞에는 모르겠고, 3: 두 번째 차원은 3개 )\n",
    "print(ft.view([-1, 3]).shape) # |ft| = (2, 2, 3) -> |ft| = (2x2, 3) = (4, 3) 4 by 3"
   ]
  },
  {
   "cell_type": "code",
   "execution_count": 45,
   "id": "smart-identification",
   "metadata": {},
   "outputs": [
    {
     "name": "stdout",
     "output_type": "stream",
     "text": [
      "tensor([[[ 0.,  1.,  2.]],\n",
      "\n",
      "        [[ 3.,  4.,  5.]],\n",
      "\n",
      "        [[ 6.,  7.,  8.]],\n",
      "\n",
      "        [[ 9., 10., 11.]]])\n",
      "torch.Size([4, 1, 3])\n"
     ]
    }
   ],
   "source": [
    "print(ft.view([-1, 1, 3]))\n",
    "print(ft.view([-1, 1, 3]).shape) # 4 x 1 x 3 = 12개의 Element가 잘 들어있는 것을 확인"
   ]
  },
  {
   "cell_type": "markdown",
   "id": "alien-ladder",
   "metadata": {},
   "source": [
    "## Squeeze"
   ]
  },
  {
   "cell_type": "markdown",
   "id": "accomplished-armenia",
   "metadata": {},
   "source": [
    "자동으로 내가 원하는 dimension에 혹은 내가 원하는 전체에서 하나만 남아있는 경우 없애주는 것"
   ]
  },
  {
   "cell_type": "code",
   "execution_count": 4,
   "id": "whole-familiar",
   "metadata": {},
   "outputs": [
    {
     "name": "stdout",
     "output_type": "stream",
     "text": [
      "tensor([[0.],\n",
      "        [1.],\n",
      "        [2.]])\n",
      "torch.Size([3, 1])\n"
     ]
    }
   ],
   "source": [
    "ft = torch.FloatTensor([[0],[1],[2]])\n",
    "print(ft) # |ft| = (3, 1) // 3 x 1\n",
    "print(ft.shape) # (3, )"
   ]
  },
  {
   "cell_type": "code",
   "execution_count": 6,
   "id": "historical-folks",
   "metadata": {},
   "outputs": [
    {
     "name": "stdout",
     "output_type": "stream",
     "text": [
      "tensor([0., 1., 2.])\n",
      "torch.Size([3])\n"
     ]
    }
   ],
   "source": [
    "print(ft.squeeze()) # squeeze(dim = ?) 해당 dimension에 1이 있을 경우 없앤다 \n",
    "print(ft.squeeze().shape)"
   ]
  },
  {
   "cell_type": "markdown",
   "id": "compliant-reservation",
   "metadata": {},
   "source": [
    "## Unsqueeze"
   ]
  },
  {
   "cell_type": "markdown",
   "id": "accepted-production",
   "metadata": {},
   "source": [
    "Squeeze를 반대로! __dimension을 꼭 명시해주어야 함__"
   ]
  },
  {
   "cell_type": "code",
   "execution_count": 10,
   "id": "critical-manual",
   "metadata": {},
   "outputs": [
    {
     "name": "stdout",
     "output_type": "stream",
     "text": [
      "torch.Size([3])\n"
     ]
    }
   ],
   "source": [
    "ft = torch.Tensor([0, 1, 2]) # |ft| = (3, )\n",
    "print(ft.shape)"
   ]
  },
  {
   "cell_type": "code",
   "execution_count": 17,
   "id": "integrated-investor",
   "metadata": {},
   "outputs": [
    {
     "name": "stdout",
     "output_type": "stream",
     "text": [
      "tensor([[0., 1., 2.]])\n",
      "torch.Size([1, 3])\n"
     ]
    }
   ],
   "source": [
    "print(ft.unsqueeze(0))\n",
    "print(ft.unsqueeze(0).shape)"
   ]
  },
  {
   "cell_type": "code",
   "execution_count": 14,
   "id": "domestic-cornwall",
   "metadata": {},
   "outputs": [
    {
     "name": "stdout",
     "output_type": "stream",
     "text": [
      "tensor([[0., 1., 2.]])\n",
      "torch.Size([1, 3])\n"
     ]
    }
   ],
   "source": [
    "print(ft.view(1, -1)) # (3, ) -> (3, 1)\n",
    "print(ft.view(1, -1).shape)"
   ]
  },
  {
   "cell_type": "code",
   "execution_count": 20,
   "id": "breathing-kitchen",
   "metadata": {},
   "outputs": [
    {
     "name": "stdout",
     "output_type": "stream",
     "text": [
      "tensor([[0.],\n",
      "        [1.],\n",
      "        [2.]])\n",
      "torch.Size([3, 1])\n"
     ]
    }
   ],
   "source": [
    "print(ft.unsqueeze(-1)) # 마지막(두 번째) dimension\n",
    "print(ft.unsqueeze(-1).shape)"
   ]
  },
  {
   "cell_type": "markdown",
   "id": "compact-filing",
   "metadata": {},
   "source": [
    "\n"
   ]
  },
  {
   "cell_type": "markdown",
   "id": "familiar-recognition",
   "metadata": {},
   "source": [
    "## Type Casting"
   ]
  },
  {
   "cell_type": "markdown",
   "id": "grateful-strain",
   "metadata": {},
   "source": [
    "Tensor의 type을 바꿔주겠다!"
   ]
  },
  {
   "cell_type": "code",
   "execution_count": 21,
   "id": "studied-filing",
   "metadata": {},
   "outputs": [
    {
     "name": "stdout",
     "output_type": "stream",
     "text": [
      "tensor([1, 2, 3, 4])\n"
     ]
    }
   ],
   "source": [
    "lt = torch.LongTensor([1, 2, 3, 4]) # long으로 선언\n",
    "print(lt)"
   ]
  },
  {
   "cell_type": "code",
   "execution_count": 22,
   "id": "sacred-valve",
   "metadata": {},
   "outputs": [
    {
     "name": "stdout",
     "output_type": "stream",
     "text": [
      "tensor([1., 2., 3., 4.])\n"
     ]
    }
   ],
   "source": [
    "print(lt.float()) #float로 바꿈"
   ]
  },
  {
   "cell_type": "markdown",
   "id": "plastic-madison",
   "metadata": {},
   "source": [
    "byte Tensor 같은 경우는 조건문을 실행했을 때\n",
    "\n",
    "ex) bt = (lt == 3) -> bt = (0, 0, 1, 0)"
   ]
  },
  {
   "cell_type": "code",
   "execution_count": 23,
   "id": "suffering-richards",
   "metadata": {},
   "outputs": [
    {
     "name": "stdout",
     "output_type": "stream",
     "text": [
      "tensor([1, 0, 0, 1], dtype=torch.uint8)\n"
     ]
    }
   ],
   "source": [
    "bt = torch.ByteTensor([True, False, False, True])\n",
    "print(bt)"
   ]
  },
  {
   "cell_type": "code",
   "execution_count": 25,
   "id": "floppy-clear",
   "metadata": {},
   "outputs": [
    {
     "name": "stdout",
     "output_type": "stream",
     "text": [
      "tensor([1, 0, 0, 1])\n",
      "tensor([1., 0., 0., 1.])\n"
     ]
    }
   ],
   "source": [
    "print(bt.long())  #long 으로 바꿈\n",
    "print(bt.float()) #float 로 바꿈"
   ]
  },
  {
   "cell_type": "markdown",
   "id": "after-consumer",
   "metadata": {},
   "source": [
    "## Concatenate"
   ]
  },
  {
   "cell_type": "markdown",
   "id": "electoral-sweden",
   "metadata": {},
   "source": [
    "이어붙이기"
   ]
  },
  {
   "cell_type": "code",
   "execution_count": 28,
   "id": "interested-opportunity",
   "metadata": {},
   "outputs": [],
   "source": [
    "x = torch.FloatTensor([[1, 2], [3, 4]])\n",
    "y = torch.FloatTensor([[5, 6], [7, 8]]) # x와 y는 2 x 2 로 크기가 같음"
   ]
  },
  {
   "cell_type": "code",
   "execution_count": 30,
   "id": "offensive-board",
   "metadata": {},
   "outputs": [
    {
     "name": "stdout",
     "output_type": "stream",
     "text": [
      "tensor([[1., 2.],\n",
      "        [3., 4.],\n",
      "        [5., 6.],\n",
      "        [7., 8.]])\n",
      "tensor([[1., 2., 5., 6.],\n",
      "        [3., 4., 7., 8.]])\n"
     ]
    }
   ],
   "source": [
    "print(torch.cat([x, y], dim = 0)) # cat의 dimension 0 이 늘어남 -> (4, 2) = 4 x 2\n",
    "print(torch.cat([x, y], dim = 1)) # cat의 dimension 1 이 늘어남 -> (2, 4) = 2 x 4"
   ]
  },
  {
   "cell_type": "markdown",
   "id": "funky-redhead",
   "metadata": {},
   "source": [
    "## Stacking"
   ]
  },
  {
   "cell_type": "markdown",
   "id": "executed-vampire",
   "metadata": {},
   "source": [
    "Concatenation을 조금 더 편리하게 사용할 수 있도록 단축해 놓은 것"
   ]
  },
  {
   "cell_type": "code",
   "execution_count": 31,
   "id": "understanding-retail",
   "metadata": {},
   "outputs": [],
   "source": [
    "x = torch.FloatTensor([1, 4])  # |x| = |y| = |z|\n",
    "y = torch.FloatTensor([2, 5])\n",
    "z = torch.FloatTensor([3, 6])"
   ]
  },
  {
   "cell_type": "code",
   "execution_count": 32,
   "id": "sapphire-venue",
   "metadata": {},
   "outputs": [
    {
     "name": "stdout",
     "output_type": "stream",
     "text": [
      "tensor([[1., 4.],\n",
      "        [2., 5.],\n",
      "        [3., 6.]])\n",
      "tensor([[1., 2., 3.],\n",
      "        [4., 5., 6.]])\n"
     ]
    }
   ],
   "source": [
    "print(torch.stack([x, y, z])) # Tensor들을 Stack에 쌓아라 -> 3 x 2 // 아래와 같이 Unsqueeze를 활용해 나타낼 수 있다.\n",
    "print(torch.stack([x, y, z], dim = 1)) # dimension 1에 대해서 쌓아라 -> 2 x 3"
   ]
  },
  {
   "cell_type": "code",
   "execution_count": 33,
   "id": "hungry-sugar",
   "metadata": {},
   "outputs": [
    {
     "name": "stdout",
     "output_type": "stream",
     "text": [
      "tensor([[1., 4.],\n",
      "        [2., 5.],\n",
      "        [3., 6.]])\n"
     ]
    }
   ],
   "source": [
    "print(torch.cat([x.unsqueeze(0), y.unsqueeze(0), z.unsqueeze(0)], dim = 0))"
   ]
  },
  {
   "cell_type": "markdown",
   "id": "harmful-folder",
   "metadata": {},
   "source": [
    "## Ones and Zeros"
   ]
  },
  {
   "cell_type": "code",
   "execution_count": 35,
   "id": "given-batch",
   "metadata": {},
   "outputs": [
    {
     "name": "stdout",
     "output_type": "stream",
     "text": [
      "tensor([[0., 1., 2.],\n",
      "        [2., 1., 0.]])\n"
     ]
    }
   ],
   "source": [
    "x = torch.FloatTensor([[0, 1, 2],[2, 1, 0]]) # 2x3의 Tensor 선언\n",
    "print(x)"
   ]
  },
  {
   "cell_type": "code",
   "execution_count": 36,
   "id": "lonely-senator",
   "metadata": {},
   "outputs": [
    {
     "name": "stdout",
     "output_type": "stream",
     "text": [
      "tensor([[1., 1., 1.],\n",
      "        [1., 1., 1.]])\n",
      "tensor([[0., 0., 0.],\n",
      "        [0., 0., 0.]])\n"
     ]
    }
   ],
   "source": [
    "print(torch.ones_like(x))  # 똑같은 size에 1로 가득찬 Matrix\n",
    "print(torch.zeros_like(x)) # 똑같은 size에 0으로 가득찬 Matrix"
   ]
  },
  {
   "cell_type": "markdown",
   "id": "metallic-ridge",
   "metadata": {},
   "source": [
    "__이것들의 device도 똑같이 갈 것이다!!!!__\n",
    "\n",
    "같은 device에 있어야만 연산이 가능"
   ]
  },
  {
   "cell_type": "markdown",
   "id": "protective-danger",
   "metadata": {},
   "source": [
    "## In-place Operation"
   ]
  },
  {
   "cell_type": "markdown",
   "id": "latin-sheriff",
   "metadata": {},
   "source": [
    "기본적으로 곱하기를 해주는 것인데  _ (under bar)가 붙는다.\n",
    "\n",
    "다만 메모리를 새로 선언하지 않고 정답값을 기존의 Tensor에 넣는다. => 좀 더 속도가 빠른 것을 추측할 수 있음\n",
    "(하지만 솔직히 파이토치에서 --가 잘 설계되어 있어서 속도적 이점이 딱이 없을 수 있음)"
   ]
  },
  {
   "cell_type": "code",
   "execution_count": 40,
   "id": "indirect-insight",
   "metadata": {},
   "outputs": [],
   "source": [
    "x = torch.FloatTensor([[1, 2], [3, 4]])"
   ]
  },
  {
   "cell_type": "code",
   "execution_count": 42,
   "id": "hindu-selling",
   "metadata": {},
   "outputs": [
    {
     "name": "stdout",
     "output_type": "stream",
     "text": [
      "tensor([[2., 4.],\n",
      "        [6., 8.]])\n",
      "tensor([[1., 2.],\n",
      "        [3., 4.]])\n",
      "tensor([[2., 4.],\n",
      "        [6., 8.]])\n",
      "tensor([[2., 4.],\n",
      "        [6., 8.]])\n"
     ]
    }
   ],
   "source": [
    "print(x.mul(2.)) # <= X x 2 임의의 메모리로 값이 들어가 출력함\n",
    "print(x) # <= 값이 변하지 않음\n",
    "print(x.mul_(2.))\n",
    "print(x) # <= x에 결과값이 저장된 것을 확인할 수 있음"
   ]
  }
 ],
 "metadata": {
  "kernelspec": {
   "display_name": "Python 3",
   "language": "python",
   "name": "python3"
  },
  "language_info": {
   "codemirror_mode": {
    "name": "ipython",
    "version": 3
   },
   "file_extension": ".py",
   "mimetype": "text/x-python",
   "name": "python",
   "nbconvert_exporter": "python",
   "pygments_lexer": "ipython3",
   "version": "3.8.5"
  }
 },
 "nbformat": 4,
 "nbformat_minor": 5
}
